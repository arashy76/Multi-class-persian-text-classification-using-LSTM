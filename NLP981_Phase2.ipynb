{
  "nbformat": 4,
  "nbformat_minor": 0,
  "metadata": {
    "colab": {
      "name": "NLP981_Phase2.ipynb",
      "provenance": [],
      "collapsed_sections": [],
      "toc_visible": true,
      "machine_shape": "hm"
    },
    "kernelspec": {
      "name": "python3",
      "display_name": "Python 3"
    },
    "language_info": {
      "codemirror_mode": {
        "name": "ipython",
        "version": 3
      },
      "file_extension": ".py",
      "mimetype": "text/x-python",
      "name": "python",
      "nbconvert_exporter": "python",
      "pygments_lexer": "ipython3",
      "version": "3.7.0"
    }
  },
  "cells": [
    {
      "cell_type": "markdown",
      "metadata": {
        "id": "0Tduc6QDQz1H"
      },
      "source": [
        "# NLP981 Final Project - Phase #2"
      ]
    },
    {
      "cell_type": "markdown",
      "metadata": {
        "id": "P0F0hIUs7oCS"
      },
      "source": [
        "*   Instructor: Javad PourMostafa\n",
        "*   Teaching Assistant: Parsa Abbasi\n",
        "*   University of Guilan, 1st semester of 2019\n",
        "*   GitHub repository : *https://github.com/JoyeBright/NLP*"
      ]
    },
    {
      "cell_type": "code",
      "metadata": {
        "id": "rVC1mwiaOZMI",
        "colab": {
          "base_uri": "https://localhost:8080/"
        },
        "outputId": "bc2dfdc1-8db1-48c6-acc9-099c21bfcb51"
      },
      "source": [
        "!pip install keras\n",
        "!pip install nltk\n",
        "!pip install hazm\n",
        "!pip install stopwords_guilannlp\n",
        "!pip install -U -q PyDrive\n",
        "from pydrive.auth import GoogleAuth\n",
        "from pydrive.drive import GoogleDrive\n",
        "from google.colab import auth\n",
        "from oauth2client.client import GoogleCredentials# Authenticate and create the PyDrive client.\n",
        "auth.authenticate_user()\n",
        "gauth = GoogleAuth()\n",
        "gauth.credentials = GoogleCredentials.get_application_default()\n",
        "drive = GoogleDrive(gauth)"
      ],
      "execution_count": 1,
      "outputs": [
        {
          "output_type": "stream",
          "text": [
            "Requirement already satisfied: keras in /usr/local/lib/python3.6/dist-packages (2.4.3)\n",
            "Requirement already satisfied: pyyaml in /usr/local/lib/python3.6/dist-packages (from keras) (3.13)\n",
            "Requirement already satisfied: scipy>=0.14 in /usr/local/lib/python3.6/dist-packages (from keras) (1.4.1)\n",
            "Requirement already satisfied: numpy>=1.9.1 in /usr/local/lib/python3.6/dist-packages (from keras) (1.18.5)\n",
            "Requirement already satisfied: h5py in /usr/local/lib/python3.6/dist-packages (from keras) (2.10.0)\n",
            "Requirement already satisfied: six in /usr/local/lib/python3.6/dist-packages (from h5py->keras) (1.15.0)\n",
            "Requirement already satisfied: nltk in /usr/local/lib/python3.6/dist-packages (3.2.5)\n",
            "Requirement already satisfied: six in /usr/local/lib/python3.6/dist-packages (from nltk) (1.15.0)\n",
            "Collecting hazm\n",
            "\u001b[?25l  Downloading https://files.pythonhosted.org/packages/22/13/5a7074bc11d20dbbb46239349ac3f85f7edc148b4cf68e9b8c2f8263830c/hazm-0.7.0-py3-none-any.whl (316kB)\n",
            "\u001b[K     |████████████████████████████████| 317kB 5.9MB/s \n",
            "\u001b[?25hCollecting nltk==3.3\n",
            "\u001b[?25l  Downloading https://files.pythonhosted.org/packages/50/09/3b1755d528ad9156ee7243d52aa5cd2b809ef053a0f31b53d92853dd653a/nltk-3.3.0.zip (1.4MB)\n",
            "\u001b[K     |████████████████████████████████| 1.4MB 25.2MB/s \n",
            "\u001b[?25hCollecting libwapiti>=0.2.1; platform_system != \"Windows\"\n",
            "\u001b[?25l  Downloading https://files.pythonhosted.org/packages/bc/0f/1c9b49bb49821b5856a64ea6fac8d96a619b9f291d1f06999ea98a32c89c/libwapiti-0.2.1.tar.gz (233kB)\n",
            "\u001b[K     |████████████████████████████████| 235kB 29.8MB/s \n",
            "\u001b[?25hRequirement already satisfied: six in /usr/local/lib/python3.6/dist-packages (from nltk==3.3->hazm) (1.15.0)\n",
            "Building wheels for collected packages: nltk, libwapiti\n",
            "  Building wheel for nltk (setup.py) ... \u001b[?25l\u001b[?25hdone\n",
            "  Created wheel for nltk: filename=nltk-3.3-cp36-none-any.whl size=1394469 sha256=cb9d129c83d44eb43a847618cb91c3f188cb16ba49fe4e6bb76a40d8bd6f070b\n",
            "  Stored in directory: /root/.cache/pip/wheels/d1/ab/40/3bceea46922767e42986aef7606a600538ca80de6062dc266c\n",
            "  Building wheel for libwapiti (setup.py) ... \u001b[?25l\u001b[?25hdone\n",
            "  Created wheel for libwapiti: filename=libwapiti-0.2.1-cp36-cp36m-linux_x86_64.whl size=154857 sha256=2bdf32fe4ee30eaf792ec8382fdc0814efe03dc999f5ea3082298d56a7fd2044\n",
            "  Stored in directory: /root/.cache/pip/wheels/66/15/54/4510dce8bb958b1cdd2c47425cbd1e1eecc0480ac9bb1fb9ab\n",
            "Successfully built nltk libwapiti\n",
            "Installing collected packages: nltk, libwapiti, hazm\n",
            "  Found existing installation: nltk 3.2.5\n",
            "    Uninstalling nltk-3.2.5:\n",
            "      Successfully uninstalled nltk-3.2.5\n",
            "Successfully installed hazm-0.7.0 libwapiti-0.2.1 nltk-3.3\n",
            "Collecting stopwords_guilannlp\n",
            "  Downloading https://files.pythonhosted.org/packages/44/bc/a01c003b59a91187e89d11e73e8bb2834bb9ae6b36fe576a4b617c90bd23/stopwords_guilannlp-13.2019.3.5-py3-none-any.whl\n",
            "Installing collected packages: stopwords-guilannlp\n",
            "Successfully installed stopwords-guilannlp-13.2019.3.5\n"
          ],
          "name": "stdout"
        }
      ]
    },
    {
      "cell_type": "code",
      "metadata": {
        "id": "aUO9K1mKO2EB",
        "colab": {
          "base_uri": "https://localhost:8080/"
        },
        "outputId": "f2f5f901-5a87-405a-dabb-2841147317df"
      },
      "source": [
        "import nltk\n",
        "nltk.download('punkt')"
      ],
      "execution_count": 2,
      "outputs": [
        {
          "output_type": "stream",
          "text": [
            "[nltk_data] Downloading package punkt to /root/nltk_data...\n",
            "[nltk_data]   Unzipping tokenizers/punkt.zip.\n"
          ],
          "name": "stdout"
        },
        {
          "output_type": "execute_result",
          "data": {
            "text/plain": [
              "True"
            ]
          },
          "metadata": {
            "tags": []
          },
          "execution_count": 2
        }
      ]
    },
    {
      "cell_type": "code",
      "metadata": {
        "id": "hJiCXKiUNsUQ",
        "colab": {
          "base_uri": "https://localhost:8080/"
        },
        "outputId": "45e244a4-88fd-480b-a4eb-0f5690a23516"
      },
      "source": [
        "sentence = \"Hello, world!\"\n",
        "print (nltk.word_tokenize(sentence))"
      ],
      "execution_count": 3,
      "outputs": [
        {
          "output_type": "stream",
          "text": [
            "['Hello', ',', 'world', '!']\n"
          ],
          "name": "stdout"
        }
      ]
    },
    {
      "cell_type": "markdown",
      "metadata": {
        "id": "_aE9xQhhQ6XS"
      },
      "source": [
        "It's the first phase of your final project for the *NLP981* course. The main idea behind this phase is to portray the develope side of *NLP*.\n",
        "\n",
        "You must code inside of this python notebook. I highly recommend you to use the *Google Colab* environment. \n",
        "\n",
        "If you have any questions, feel free to ask.\n",
        "You can use [*Quera*](https://quera.ir/course/4385/) platform for your general questions.\n",
        "\n"
      ]
    },
    {
      "cell_type": "markdown",
      "metadata": {
        "id": "EgS3aCY358dV"
      },
      "source": [
        "## Introduction"
      ]
    },
    {
      "cell_type": "markdown",
      "metadata": {
        "id": "6FG4cndz6DDq"
      },
      "source": [
        "A category predictor is going to build at this phase of the project.\n",
        "\n",
        "The predictor gets a text as input and predicts a category for that.\n",
        "\n",
        "For this purpose, you need to :\n",
        "\n",
        "1.   Load the dataset\n",
        "2.   Preprocess the text data\n",
        "3.   Implement a word representation method to represent each text as a numeric vector\n",
        "4.   Implement a classification model and train that using the training set\n",
        "5.   Predict a category for each of validation data using implemented model\n",
        "6.   Measure your work using confusion matrix and some common metrics\n",
        "\n",
        "**Important Note:** You can use any library you want in sections 1 and 2. But everything in section 3-6 need to be coded purely.\n",
        "\n"
      ]
    },
    {
      "cell_type": "markdown",
      "metadata": {
        "id": "0acil66KQ8A_"
      },
      "source": [
        "## 1) Dataset"
      ]
    },
    {
      "cell_type": "markdown",
      "metadata": {
        "id": "haH1kfj3Q9tf"
      },
      "source": [
        "The dataset you will use in this phase is called *Divar* that released by the *CafeBazaar* research team.\n",
        "\n",
        "It contains more than 900,000 posts of the *Divar* ads platform. We split this dataset into training, validation, and testing sets.\n",
        "\n",
        "The testing set is not accessible for you, and we use them to evaluate your work on the presentation day.\n",
        "\n",
        "You can download the dataset files (training and validation sets) directly from the following link :\n",
        "\n",
        "> *https://drive.google.com/open?id=1oj-fqpymjDr8QsOK-zQliiqXbVqakrFo*\n"
      ]
    },
    {
      "cell_type": "markdown",
      "metadata": {
        "id": "UdIRg1UBSOEi"
      },
      "source": [
        "### 1.1) Import"
      ]
    },
    {
      "cell_type": "code",
      "metadata": {
        "id": "gwCPJjaSQukm"
      },
      "source": [
        "import pandas as pd\n",
        "from keras.preprocessing.text import Tokenizer\n",
        "from keras.preprocessing.sequence import pad_sequences\n",
        "from keras.models import Sequential\n",
        "from keras.layers import Dense, Embedding, LSTM, SpatialDropout1D\n",
        "from sklearn.model_selection import train_test_split\n",
        "from keras.utils.np_utils import to_categorical\n",
        "from keras.callbacks import EarlyStopping\n",
        "from keras.layers import Dropout\n",
        "from sklearn.metrics import classification_report, confusion_matrix\n",
        "from hazm import *\n",
        "from stopwords_guilannlp import *\n",
        "from nltk.tokenize import RegexpTokenizer\n",
        "import numpy as np\n",
        "import math\n",
        "import re\n",
        "import matplotlib as mpl\n",
        "import matplotlib.pyplot as plt\n",
        "import seaborn as sb\n",
        "from mpl_toolkits.axes_grid1 import make_axes_locatable\n",
        "from copy import deepcopy\n",
        "from string import punctuation\n",
        "import random\n",
        "    \n",
        "pd.set_option('display.max_rows', 500)\n",
        "pd.set_option('display.max_columns', 500)\n",
        "pd.set_option('display.width', 1000)\n",
        "\n",
        "#train_set = pd.read_csv('trainset.csv')\n",
        "#valid_set = pd.read_csv('validationset.csv')\n",
        "\n",
        "link = 'https://drive.google.com/open?id=1-D-AmUvc2fFOs53HWxoSRpy-6MtTlHRc'\n",
        "st, id = link.split('=')\n",
        "downloaded = drive.CreateFile({'id':id}) \n",
        "downloaded.GetContentFile('trainset.csv')  \n",
        "train_set = pd.read_csv('trainset.csv')\n",
        "\n",
        "link = 'https://drive.google.com/open?id=1-J4-W7HPdDowThY24hUoqCQGDW7iUNcN'\n",
        "st, id = link.split('=')\n",
        "downloaded = drive.CreateFile({'id':id}) \n",
        "downloaded.GetContentFile('validationset.csv')  \n",
        "valid_set = pd.read_csv('validationset.csv')\n",
        "\n"
      ],
      "execution_count": 4,
      "outputs": []
    },
    {
      "cell_type": "markdown",
      "metadata": {
        "id": "MWHwVPkfS-OX"
      },
      "source": [
        "### 1.2) Analyzing"
      ]
    },
    {
      "cell_type": "markdown",
      "metadata": {
        "id": "KlIKCffqU4AM"
      },
      "source": [
        "Display the top 10 rows of the train set."
      ]
    },
    {
      "cell_type": "code",
      "metadata": {
        "id": "Gw0EuzrFVIat",
        "colab": {
          "base_uri": "https://localhost:8080/"
        },
        "outputId": "6b4c50d0-ada0-4669-bdc1-bf54855bcac2"
      },
      "source": [
        "print(train_set.head(10))"
      ],
      "execution_count": 5,
      "outputs": [
        {
          "output_type": "stream",
          "text": [
            "   Unnamed: 0  Unnamed: 0.1  archive_by_user                   brand                cat1                       cat2            cat3     city      created_at                                               desc              id  image_count   mileage platform     price                                     title   type  year\n",
            "0           0        282086             True                     NaN            personal         clothing-and-shoes  shoes-belt-bag   Tehran     Monday 11AM  چکمه یکبار پوشیده شده قیمت 42\\nکفش قهوه ای سوخ...  12875614029625            3       NaN   mobile     42000                                   سایز 40  women   NaN\n",
            "1           1        762753             True        Samsung::سامسونگ  electronic-devices              mobile-tablet   mobile-phones   Tehran  Wednesday 12PM  گوشی رو تا حالا باز نکردم و تو جعبه پلمپه از د...  16051997226596            0       NaN   mobile    850000                      گوشی سامسونگ a3 2016    NaN   NaN\n",
            "2           2        805240             True                     NaN            personal        jewelry-and-watches         watches   Tehran    Tuesday 09AM  ساعت هیچ مشکلی ندارد اصل اصل هستش چون دیگه دست...  51715717387979            2       NaN   mobile    130000                     ساعت زنانه اسپریت اصل    NaN   NaN\n",
            "3           3        556730            False                     NaN            personal              baby-and-toys   personal-toys   Tehran   Thursday 06PM  دوچرخه از هرلحاظ سالمه و فقط مدت کوتاهی استفاد...   9381204619687            2       NaN   mobile    200000  فروش یک عدد دوچرخه مارک پرادو بسیار سالم    NaN   NaN\n",
            "4           4        727332             True                     NaN     leisure-hobbies         hobby-collectibles      coin-stamp   Tehran  Wednesday 09PM  14 اسکناس مطابق تصویر همه باهم 200 هزار تومان\\...  47687757949429            3       NaN      web        -1                  14 اسکناس کلکسیونی code1    NaN   NaN\n",
            "5           5        805039             True                     NaN     leisure-hobbies              sport-leisure     ball-sports   Tehran    Tuesday 11AM  فوتبال دستی حرفه ای تاشو درحد نو فقط 2ماه استف...  35888748102799            3       NaN   mobile    480000                       فوتبال دستی حرفه ای    NaN   NaN\n",
            "6           6        812617            False                     NaN        for-the-home  furniture-and-home-decore        lighting   Tehran   Thursday 08AM                            لوستر نو برای اتاق کودک  61553946516880            1       NaN   mobile     25000                                     لوستر    NaN   NaN\n",
            "7           7        295730             True                     NaN            vehicles          parts-accessories             NaN  Isfahan     Monday 10PM  4 عدد رینگ اهنی ال 90 سالم قیمت از شما من فروش...  21090520055338            0       NaN   mobile        -1                           رینگ اهنی ال 90    NaN   NaN\n",
            "8           8        777605            False           نیسان::Nissan            vehicles                       cars           light   Shiraz  Wednesday 01PM                   بیمه تا۹۵/۹/۲۷,کف دستی رنگ درعقب  27046580911179            2  380000.0   mobile  40000000                        نیسان سرانزا مدل۸۳    NaN  1383\n",
            "9           9        797079            False  پراید صندوق‌دار::Pride            vehicles                       cars           light   Tehran    Tuesday 03PM  عقب وجلوپلمب بیرنگ لاستیک نو به شرط مصرف کننده...  42106059496341            0  109000.0   mobile  14000000                                پراید سفید    NaN  1390\n"
          ],
          "name": "stdout"
        }
      ]
    },
    {
      "cell_type": "markdown",
      "metadata": {
        "id": "iqfkJST6VMXt"
      },
      "source": [
        "How many data (rows) stored in the training and validation sets?"
      ]
    },
    {
      "cell_type": "code",
      "metadata": {
        "id": "Jkiaz92zVVpy",
        "colab": {
          "base_uri": "https://localhost:8080/"
        },
        "outputId": "7ad414a0-aaa8-4835-d1a0-ef38f570ab99"
      },
      "source": [
        "train_len = train_set.shape[0]\n",
        "valid_len = valid_set.shape[0]\n",
        "print('Train set has {} rows.'.format(train_len))\n",
        "print('Validation set has {} rows.'.format(valid_len))"
      ],
      "execution_count": 6,
      "outputs": [
        {
          "output_type": "stream",
          "text": [
            "Train set has 700000 rows.\n",
            "Validation set has 147635 rows.\n"
          ],
          "name": "stdout"
        }
      ]
    },
    {
      "cell_type": "markdown",
      "metadata": {
        "id": "9aw0x_s3_b4U"
      },
      "source": [
        "How many posts are in each category (First level categories)? (Based on training set)"
      ]
    },
    {
      "cell_type": "code",
      "metadata": {
        "id": "31PFgy46_ntw",
        "colab": {
          "base_uri": "https://localhost:8080/"
        },
        "outputId": "4cb75c15-cd3b-4997-eb29-fd4d2a4913a2"
      },
      "source": [
        "cat1 = train_set[\"cat1\"]\n",
        "\n",
        "\n",
        "\n",
        "#Test set = Valid set\n",
        "test_cat1 = valid_set[\"cat1\"]\n",
        "\n",
        "\n",
        "\n",
        "unique_cat1 = np.unique(cat1)\n",
        "\n",
        "#in the following lines of code we print how many posts are in each category\n",
        "cat1_posts_count = dict.fromkeys(unique_cat1, 0)\n",
        "for cat in cat1:\n",
        "  cat1_posts_count[cat] += 1\n",
        "\n",
        "for cat, cnt in cat1_posts_count.items():\n",
        "  print('Category \"{}\" contains {} posts.'.format(cat, cnt))\n",
        "   "
      ],
      "execution_count": 7,
      "outputs": [
        {
          "output_type": "stream",
          "text": [
            "Category \"businesses\" contains 45660 posts.\n",
            "Category \"electronic-devices\" contains 122905 posts.\n",
            "Category \"for-the-home\" contains 214955 posts.\n",
            "Category \"leisure-hobbies\" contains 61676 posts.\n",
            "Category \"personal\" contains 102804 posts.\n",
            "Category \"vehicles\" contains 152000 posts.\n"
          ],
          "name": "stdout"
        }
      ]
    },
    {
      "cell_type": "markdown",
      "metadata": {
        "id": "KUejNXljlZD1"
      },
      "source": [
        "## 2) Preprocessing procedure"
      ]
    },
    {
      "cell_type": "markdown",
      "metadata": {
        "id": "-j1EilpbAi-W"
      },
      "source": [
        "There are two kinds of text data in the dataset: *Title* and *Description*."
      ]
    },
    {
      "cell_type": "markdown",
      "metadata": {
        "id": "cLT50bemjw3K"
      },
      "source": [
        "You can use the [*Stopwords Guilan NLP*](https://github.com/JoyeBright/stopwords_guilannlp) library to access a collection of Persian stop words."
      ]
    },
    {
      "cell_type": "code",
      "metadata": {
        "id": "xPQYAeEnlrcc"
      },
      "source": [
        "#for faster result, we define the following lines of code outside the 'preprocessing' function\n",
        "normalizer = Normalizer()\n",
        "stopwords = stopwords_output(\"Persian\", \"nar\")\n",
        "lemmatizer = Lemmatizer()\n",
        "stemmer = Stemmer()\n",
        "\n",
        "\n",
        "def preprocessing(text):\n",
        "    \n",
        "    text = re.sub('<[^<]+?>','', text)\n",
        "    text = ''.join(c for c in text if not c.isdigit())\n",
        "    text = ''.join(c for c in text if c not in punctuation)\n",
        "    text = normalizer.normalize(text)\n",
        "    text = ' '.join(word for word in text.split() if word not in stopwords) # remove stopwors from text\n",
        "    return text\n",
        "\n",
        "\n",
        "   "
      ],
      "execution_count": 8,
      "outputs": []
    },
    {
      "cell_type": "markdown",
      "metadata": {
        "id": "izN13hPulonI"
      },
      "source": [
        "## 3) Preparing the train and test data and create the model"
      ]
    },
    {
      "cell_type": "markdown",
      "metadata": {
        "id": "S1rGMFJmqKwm"
      },
      "source": [
        "### 3.1) Preprocessing"
      ]
    },
    {
      "cell_type": "markdown",
      "metadata": {
        "id": "nTZCMdqft4Ic"
      },
      "source": [
        "Preprocessing of raw data and preparing the train and test data."
      ]
    },
    {
      "cell_type": "code",
      "metadata": {
        "id": "ZVwNZTGLqm20",
        "colab": {
          "base_uri": "https://localhost:8080/"
        },
        "outputId": "48cc198e-05eb-4619-b4bd-581af7e85856"
      },
      "source": [
        "column1 = \"title\"\n",
        "\n",
        "dataset = train_set.append(valid_set)\n",
        "dataset[column1] = dataset[column1].apply(preprocessing)\n",
        "num_classes = len(unique_cat1)\n",
        "\n",
        "\n",
        "\n",
        "# The maximum number of words to be used. (most frequent)\n",
        "MAX_NB_WORDS = 50000\n",
        "# Max number of words in each post.\n",
        "MAX_SEQUENCE_LENGTH = 250\n",
        "# The embedding dimension\n",
        "EMBEDDING_DIM = 100\n",
        "\n",
        "tokenizer = Tokenizer(num_words=MAX_NB_WORDS, filters='!\"#$%&()*+,-./:;<=>?@[\\]^_`{|}~', lower=True)\n",
        "tokenizer.fit_on_texts(dataset[column1].values)\n",
        "word_index = tokenizer.word_index\n",
        "print('Found %s unique tokens.' % len(word_index))\n",
        "# print(word_index)\n",
        "\n",
        "X = tokenizer.texts_to_sequences(dataset[column1].values)\n",
        "X = pad_sequences(X, maxlen=MAX_SEQUENCE_LENGTH)\n",
        "print('Shape of data tensor:', X.shape)\n"
      ],
      "execution_count": 9,
      "outputs": [
        {
          "output_type": "stream",
          "text": [
            "Found 113878 unique tokens.\n",
            "Shape of data tensor: (847635, 250)\n"
          ],
          "name": "stdout"
        }
      ]
    },
    {
      "cell_type": "code",
      "metadata": {
        "id": "8yyUQ-_urWW5",
        "colab": {
          "base_uri": "https://localhost:8080/"
        },
        "outputId": "ed462000-1bc2-4af5-a62b-9047a7344f15"
      },
      "source": [
        "rows_of_train = 250000\n",
        "rows_of_test = 75000\n",
        "\n",
        "Y = pd.get_dummies(dataset['cat1']).values\n",
        "print('Shape of label tensor:', Y.shape)\n",
        "\n",
        "# X_train, X_test, Y_train, Y_test = train_test_split(X,Y, test_size = 0.4, random_state = 42)\n",
        "\n",
        "X_train = X[0:rows_of_train]\n",
        "X_test = X[rows_of_train: rows_of_train + rows_of_test]\n",
        "\n",
        "Y_train = Y[0:rows_of_train]\n",
        "Y_test = Y[rows_of_train:rows_of_train + rows_of_test]\n",
        "\n",
        "print(X_train.shape,Y_train.shape)\n",
        "print(X_test.shape,Y_test.shape)\n"
      ],
      "execution_count": 11,
      "outputs": [
        {
          "output_type": "stream",
          "text": [
            "Shape of label tensor: (847635, 6)\n",
            "(250000, 250) (250000, 6)\n",
            "(75000, 250) (75000, 6)\n"
          ],
          "name": "stdout"
        }
      ]
    },
    {
      "cell_type": "markdown",
      "metadata": {
        "id": "tSDMXv46CWwm"
      },
      "source": [
        "## 4) Classification"
      ]
    },
    {
      "cell_type": "markdown",
      "metadata": {
        "id": "mRpciSZZ-mb9"
      },
      "source": [
        "![alt text](https://cdn.lynda.com/course/578082/578082-637075371482276339-16x9.jpg)"
      ]
    },
    {
      "cell_type": "markdown",
      "metadata": {
        "id": "tk1EJq7B4JwX"
      },
      "source": [
        "### 4.1) LSTM model"
      ]
    },
    {
      "cell_type": "markdown",
      "metadata": {
        "id": "MoiyVNNz-q5k"
      },
      "source": [
        "The LSTM is implemented here.\n",
        "\n",
        "Then we fit the training data into the classifier after implementation :"
      ]
    },
    {
      "cell_type": "code",
      "metadata": {
        "id": "5q-s73zI-xOq",
        "colab": {
          "base_uri": "https://localhost:8080/"
        },
        "outputId": "95d0b680-daa4-4db1-a9e1-fafb40cc7725"
      },
      "source": [
        "model = Sequential()\n",
        "model.add(Embedding(MAX_NB_WORDS, EMBEDDING_DIM, input_length=X.shape[1]))\n",
        "model.add(SpatialDropout1D(0.2))\n",
        "model.add(LSTM(100, dropout=0.2, recurrent_dropout=0.2))\n",
        "model.add(Dense(6, activation='softmax'))\n",
        "model.compile(loss='categorical_crossentropy', optimizer='adam', metrics=['accuracy'])\n",
        "model.summary()\n",
        "\n",
        "epochs = 5\n",
        "batch_size = 64\n",
        "\n",
        "history = model.fit(X_train, Y_train, epochs=epochs, batch_size=batch_size,validation_split=0.1,callbacks=[EarlyStopping(monitor='val_loss', patience=3, min_delta=0.0001)])\n",
        "\n"
      ],
      "execution_count": 12,
      "outputs": [
        {
          "output_type": "stream",
          "text": [
            "Model: \"sequential\"\n",
            "_________________________________________________________________\n",
            "Layer (type)                 Output Shape              Param #   \n",
            "=================================================================\n",
            "embedding (Embedding)        (None, 250, 100)          5000000   \n",
            "_________________________________________________________________\n",
            "spatial_dropout1d (SpatialDr (None, 250, 100)          0         \n",
            "_________________________________________________________________\n",
            "lstm (LSTM)                  (None, 100)               80400     \n",
            "_________________________________________________________________\n",
            "dense (Dense)                (None, 6)                 606       \n",
            "=================================================================\n",
            "Total params: 5,081,006\n",
            "Trainable params: 5,081,006\n",
            "Non-trainable params: 0\n",
            "_________________________________________________________________\n",
            "Epoch 1/5\n",
            "3516/3516 [==============================] - 1542s 438ms/step - loss: 0.3610 - accuracy: 0.8808 - val_loss: 0.2552 - val_accuracy: 0.9191\n",
            "Epoch 2/5\n",
            "3516/3516 [==============================] - 1555s 442ms/step - loss: 0.1910 - accuracy: 0.9404 - val_loss: 0.2497 - val_accuracy: 0.9196\n",
            "Epoch 3/5\n",
            "3516/3516 [==============================] - 1549s 441ms/step - loss: 0.1559 - accuracy: 0.9501 - val_loss: 0.2471 - val_accuracy: 0.9200\n",
            "Epoch 4/5\n",
            "3516/3516 [==============================] - 1547s 440ms/step - loss: 0.1403 - accuracy: 0.9541 - val_loss: 0.2486 - val_accuracy: 0.9217\n",
            "Epoch 5/5\n",
            "3516/3516 [==============================] - 1548s 440ms/step - loss: 0.1291 - accuracy: 0.9575 - val_loss: 0.2547 - val_accuracy: 0.9209\n"
          ],
          "name": "stdout"
        }
      ]
    },
    {
      "cell_type": "markdown",
      "metadata": {
        "id": "k089_muZ6j-j"
      },
      "source": [
        "## 5) Prediction"
      ]
    },
    {
      "cell_type": "markdown",
      "metadata": {
        "id": "Kc5dl49O3aST"
      },
      "source": [
        "Now you can predict a category for each of the validation data using the implemented classifier."
      ]
    },
    {
      "cell_type": "code",
      "metadata": {
        "id": "0bM9Shkx3x7Z"
      },
      "source": [
        "Y_pred = model.predict(X_test)\n"
      ],
      "execution_count": 13,
      "outputs": []
    },
    {
      "cell_type": "markdown",
      "metadata": {
        "id": "JsxqAwVvwOdD"
      },
      "source": [
        "## 6) Evaluation"
      ]
    },
    {
      "cell_type": "markdown",
      "metadata": {
        "id": "75Ar7r9pyRLq"
      },
      "source": [
        "It's time to evaluate your model using predicted categories for validation data.\n",
        "\n",
        "You need to create a confusion matrix based on your prediction and the real labels. Then you can use this confusion matrix for calculation other measuring metrics. \n",
        "\n",
        "As this problem is a multi-class problem, the calculation formula is a little different from the general case. Read [this article](https://towardsdatascience.com/multi-class-metrics-made-simple-part-i-precision-and-recall-9250280bddc2) for more information."
      ]
    },
    {
      "cell_type": "markdown",
      "metadata": {
        "id": "WZ-19cA3wiqT"
      },
      "source": [
        "### 6.1) Confusion matrix"
      ]
    },
    {
      "cell_type": "code",
      "metadata": {
        "id": "KB5CCVKbw2Po",
        "colab": {
          "base_uri": "https://localhost:8080/",
          "height": 847
        },
        "outputId": "977c56b8-df17-4654-f605-a05023ed4dae"
      },
      "source": [
        "new_Y_pred = np.argmax(Y_pred, axis=1)\n",
        "new_Y_test = np.argmax(Y_test, axis=1)\n",
        "\n",
        "print(classification_report(new_Y_test, new_Y_pred))\n",
        "\n",
        "mpl.style.use('seaborn')\n",
        "\n",
        "conf_arr = np.zeros((num_classes, num_classes))\n",
        "\n",
        "for i in range(len(new_Y_pred)):\n",
        "        conf_arr[new_Y_pred[i]][new_Y_test[i]] += 1\n",
        "\n",
        "print(conf_arr)\n",
        "\n",
        "summ = conf_arr.sum()\n",
        "\n",
        "df_cm = pd.DataFrame(conf_arr, \n",
        "  index = unique_cat1,\n",
        "  columns = unique_cat1)\n",
        "\n",
        "fig = plt.figure()\n",
        "\n",
        "plt.clf()\n",
        "\n",
        "ax = fig.add_subplot(111)\n",
        "ax.set_aspect(1)\n",
        "\n",
        "cmap = sb.cubehelix_palette(light=1, as_cmap=True)\n",
        "\n",
        "res = sb.heatmap(df_cm, annot=True, vmin=0.0, vmax=np.max(conf_arr), fmt='.2f', cmap=cmap)\n",
        "\n",
        "res.invert_yaxis()\n",
        "\n",
        "plt.yticks([0.5,1.5,2.5,3.5,4.5,5.5], unique_cat1,va='center')\n",
        "\n",
        "print('\\n\\n')\n",
        "\n",
        "plt.title('Confusion Matrix')\n",
        "\n",
        "plt.savefig('confusion_matrix.png', dpi=700, bbox_inches='tight' )\n",
        "\n",
        "plt.show()"
      ],
      "execution_count": 14,
      "outputs": [
        {
          "output_type": "stream",
          "text": [
            "              precision    recall  f1-score   support\n",
            "\n",
            "           0       0.78      0.74      0.76      4837\n",
            "           1       0.95      0.94      0.95     13276\n",
            "           2       0.94      0.94      0.94     23007\n",
            "           3       0.92      0.89      0.90      6575\n",
            "           4       0.93      0.93      0.93     11006\n",
            "           5       0.92      0.96      0.94     16299\n",
            "\n",
            "    accuracy                           0.92     75000\n",
            "   macro avg       0.91      0.90      0.90     75000\n",
            "weighted avg       0.92      0.92      0.92     75000\n",
            "\n",
            "[[ 3593.    70.   532.    81.   170.   157.]\n",
            " [  123. 12454.   118.    86.    54.   219.]\n",
            " [  617.   152. 21664.   179.   240.   156.]\n",
            " [   84.    72.   133.  5848.   122.   129.]\n",
            " [  229.    51.   232.   162. 10211.    62.]\n",
            " [  191.   477.   328.   219.   209. 15576.]]\n",
            "\n",
            "\n",
            "\n"
          ],
          "name": "stdout"
        },
        {
          "output_type": "display_data",
          "data": {
            "image/png": "[encoded data removed]",
            "text/plain": [
              "<Figure size 576x396 with 2 Axes>"
            ]
          },
          "metadata": {
            "tags": []
          }
        }
      ]
    },
    {
      "cell_type": "markdown",
      "metadata": {
        "id": "SM6GgtHNwl1a"
      },
      "source": [
        "### 6.2) Accuracy"
      ]
    },
    {
      "cell_type": "markdown",
      "metadata": {
        "id": "9hL4wy510lEw"
      },
      "source": [
        "$$\\text{Accuracy} = \\frac{TP + TN}{TP + FP + FN + TN}$$"
      ]
    },
    {
      "cell_type": "code",
      "metadata": {
        "id": "eXPscPgkw4_S",
        "colab": {
          "base_uri": "https://localhost:8080/"
        },
        "outputId": "d7405e5b-ee36-48f4-ac86-de94e3cd32cf"
      },
      "source": [
        "# Compute the accuracy of training data and validation data\n",
        "\n",
        "corrects = 0\n",
        "for i in range(len(new_Y_pred)):\n",
        "    if int(new_Y_pred[i]) is int(new_Y_test[i]):\n",
        "        corrects += 1\n",
        "        \n",
        "accuracy = float(corrects / len(new_Y_pred))*100\n",
        "print('Accuracy (using \"{}\" column): {} %'.format (column1, accuracy))\n",
        "\n",
        "accr = model.evaluate(X_test,Y_test)\n",
        "print('Test set\\n  Loss: {:0.3f}\\n  Accuracy: {:0.3f}'.format(accr[0],accr[1]))\n"
      ],
      "execution_count": 15,
      "outputs": [
        {
          "output_type": "stream",
          "text": [
            "Accuracy (using \"title\" column): 92.46133333333333 %\n",
            "2344/2344 [==============================] - 90s 38ms/step - loss: 0.2445 - accuracy: 0.9246\n",
            "Test set\n",
            "  Loss: 0.244\n",
            "  Accuracy: 0.925\n"
          ],
          "name": "stdout"
        }
      ]
    },
    {
      "cell_type": "markdown",
      "metadata": {
        "id": "nTFur0U5wsmO"
      },
      "source": [
        "### 6.3) Precision"
      ]
    },
    {
      "cell_type": "markdown",
      "metadata": {
        "id": "frrTkQWG09fd"
      },
      "source": [
        "$$\\text{Precision} = \\frac{TP}{TP + FP}$$"
      ]
    },
    {
      "cell_type": "code",
      "metadata": {
        "id": "q1SGaY9qw7Z4",
        "colab": {
          "base_uri": "https://localhost:8080/"
        },
        "outputId": "2ad00cdf-8285-4640-cdd7-716c1f695568"
      },
      "source": [
        "#Similar to the binary case, we can define precision for each of the classes\n",
        "precision = []\n",
        "#we append the precision for each class to the variable 'precision'\n",
        "for i in range(num_classes):\n",
        "  precision.append(conf_arr[i][i] / np.sum(conf_arr[i], axis = 0))\n",
        "\n",
        "print('Precisions per classes are : {}'.format(precision))\n",
        "\n",
        "macro_precision = 100 * np.sum(precision) / num_classes\n",
        "\n",
        "print('Macro averaged Precision is : {} %'.format(macro_precision))\n",
        "\n",
        "weighted_precision = 0\n",
        "total = 0\n",
        "for i in range(num_classes):\n",
        "  weighted_precision += np.sum(conf_arr, axis = 0)[i] * precision[i]\n",
        "  total += np.sum(conf_arr, axis = 0)[i]\n",
        "\n",
        "weighted_precision = 100 * weighted_precision / total\n",
        "print('Weighted Precision is : {} %'.format(weighted_precision))"
      ],
      "execution_count": 16,
      "outputs": [
        {
          "output_type": "stream",
          "text": [
            "Precisions per classes are : [0.780577883988703, 0.9540370767580818, 0.9415855354659249, 0.915466499686913, 0.9327669681191194, 0.916235294117647]\n",
            "Macro averaged Precision is : 90.67782096893983 %\n",
            "Weighted Precision is : 92.43127255432294 %\n"
          ],
          "name": "stdout"
        }
      ]
    },
    {
      "cell_type": "markdown",
      "metadata": {
        "id": "lQcpDrm1wuhU"
      },
      "source": [
        "### 6.4) Recall"
      ]
    },
    {
      "cell_type": "markdown",
      "metadata": {
        "id": "QBb1eop61JlG"
      },
      "source": [
        "$$\\text{Recall} = \\frac{TP}{TP + FN}$$"
      ]
    },
    {
      "cell_type": "code",
      "metadata": {
        "id": "w8bLKc6Ew_iR",
        "colab": {
          "base_uri": "https://localhost:8080/"
        },
        "outputId": "c6989522-0c52-417f-ec9c-ae32a5e677ae"
      },
      "source": [
        "#Similar to the binary case, we can define recall for each of the classes\n",
        "recall = []\n",
        "#We append the recall for each class to the variable 'recall'\n",
        "for i in range(num_classes):\n",
        "  recall.append(conf_arr[i][i] / np.sum(conf_arr, axis = 0)[i])\n",
        "  \n",
        "print('Recalls per classes are : {}'.format(recall))\n",
        "\n",
        "macro_recall = 100 * np.sum(recall) / num_classes\n",
        "print('Macro averaged Recall is : {} %'.format(macro_recall))\n",
        "\n",
        "weighted_recall = 0\n",
        "for i in range(num_classes):\n",
        "  weighted_recall += np.sum(conf_arr, axis = 0)[i] * recall[i]\n",
        "\n",
        "weighted_recall = 100 * weighted_recall / total\n",
        "print('Weighted Recall is : {} %'.format(weighted_recall))  "
      ],
      "execution_count": 17,
      "outputs": [
        {
          "output_type": "stream",
          "text": [
            "Recalls per classes are : [0.742815794914203, 0.9380837601687255, 0.9416264615117138, 0.8894296577946768, 0.9277666727239687, 0.9556414503957298]\n",
            "Macro averaged Recall is : 89.92272995848363 %\n",
            "Weighted Recall is : 92.46133333333333 %\n"
          ],
          "name": "stdout"
        }
      ]
    },
    {
      "cell_type": "markdown",
      "metadata": {
        "id": "VWx42Dr5wx4m"
      },
      "source": [
        "### 6.5) F1 score"
      ]
    },
    {
      "cell_type": "markdown",
      "metadata": {
        "id": "hdVnZfm21SCM"
      },
      "source": [
        "$$\\text{F1 score} = 2\\times \\frac{(Recall \\times  Precision)}{Recall + Precision}$$ "
      ]
    },
    {
      "cell_type": "code",
      "metadata": {
        "id": "4FkCog8ExBXA",
        "colab": {
          "base_uri": "https://localhost:8080/"
        },
        "outputId": "cbf7e479-c392-4efa-f875-37d084d7ac23"
      },
      "source": [
        "#F1-score is a function of precision and recall\n",
        "#we can now compute the per-class F1-score\n",
        "f1_score = []\n",
        "for i in range(num_classes):\n",
        "  f1_score.append( 2*( (recall[i]*precision[i]) / (recall[i]+precision[i])))\n",
        "\n",
        "print('F1-scores per classes are : {}'.format(f1_score))\n",
        "\n",
        "macro_f1 = 100 * np.sum(f1_score) / num_classes\n",
        "\n",
        "print('Macro averaged F1-score is : {} %'.format(macro_f1))\n",
        "\n",
        "weighted_f1 = 0\n",
        "for i in range(num_classes):\n",
        "  weighted_f1 += np.sum(conf_arr, axis = 0)[i] * f1_score[i]\n",
        "\n",
        "weighted_f1 = 100 * weighted_f1 / total\n",
        "print('Weighted F1-score is : {} %'.format(weighted_f1))  "
      ],
      "execution_count": 18,
      "outputs": [
        {
          "output_type": "stream",
          "text": [
            "F1-scores per classes are : [0.761228813559322, 0.9459931636916067, 0.941605998044116, 0.9022602792563449, 0.9302601011251309, 0.9355235892969758]\n",
            "Macro averaged F1-score is : 90.28119908289159 %\n",
            "Weighted F1-score is : 92.43133493386968 %\n"
          ],
          "name": "stdout"
        }
      ]
    },
    {
      "cell_type": "markdown",
      "metadata": {
        "id": "TZP1GHbtB2T7"
      },
      "source": [
        "## 7) K-Fold Cross Validation *(Optional)*"
      ]
    },
    {
      "cell_type": "markdown",
      "metadata": {
        "id": "ayL96oOoB-aq"
      },
      "source": [
        "Evaluate your model based on the K-Fold Cross Validation approach. This step is optional and has a few extra points."
      ]
    },
    {
      "cell_type": "code",
      "metadata": {
        "id": "-Zxs_90TC-3b"
      },
      "source": [
        "# Your implementation"
      ],
      "execution_count": null,
      "outputs": []
    }
  ]
}